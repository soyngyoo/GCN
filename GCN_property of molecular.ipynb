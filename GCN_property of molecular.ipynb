{
 "cells": [
  {
   "cell_type": "code",
   "execution_count": 2,
   "id": "02a92c66-c5c8-42f3-8479-3a0094c2cda2",
   "metadata": {},
   "outputs": [],
   "source": [
    "# Prediction of molecular properties using GCN\n",
    "import os\n",
    "import numpy as np\n",
    "from stl import mesh\n",
    "import matplotlib.pyplot as plt\n",
    "import tensorflow as tf\n",
    "from utils import *\n",
    "import networkx as nx # 그래프 데이터 만들어주는 라이브러리\n",
    "from stl import mesh\n",
    "import trimesh\n",
    "from scipy.linalg import fractional_matrix_power\n",
    "from sklearn.metrics import r2_score\n",
    "\n",
    "import spektral #GNN 라이브러리 \n",
    "\n",
    "os.environ[\"CUDA_VISIBLE_DEVICES\"]=\"3\"\n",
    "%matplotlib inline"
   ]
  },
  {
   "cell_type": "code",
   "execution_count": 3,
   "id": "972262f8-31b2-4b0a-8650-38e771afaa77",
   "metadata": {},
   "outputs": [
    {
     "data": {
      "application/vnd.jupyter.widget-view+json": {
       "model_id": "be49cf1f643f4f70b0869a70a65c9663",
       "version_major": 2,
       "version_minor": 0
      },
      "text/plain": [
       "Reading Data:   0%|          | 0/10000 [00:00<?, ?it/s]"
      ]
     },
     "metadata": {},
     "output_type": "display_data"
    },
    {
     "data": {
      "application/vnd.jupyter.widget-view+json": {
       "model_id": "f47a4d01a8f74020a16f9315e84c0091",
       "version_major": 2,
       "version_minor": 0
      },
      "text/plain": [
       "Converting to Graph:   0%|          | 0/10000 [00:00<?, ?it/s]"
      ]
     },
     "metadata": {},
     "output_type": "display_data"
    }
   ],
   "source": [
    "list_smi, list_logP = read_ZINC_smiles('ZINC.smiles', 10000)\n",
    "list_feature, list_adj = convert_to_graph(list_smi)\n",
    "list_feature, list_adj  = np.asarray(list_feature),np.asarray(list_adj)"
   ]
  },
  {
   "cell_type": "code",
   "execution_count": 5,
   "id": "a43381ad-c034-40b3-884a-2fddbc0fb357",
   "metadata": {},
   "outputs": [],
   "source": [
    "N, F = list_feature[0].shape"
   ]
  },
  {
   "cell_type": "code",
   "execution_count": 6,
   "id": "6fc01c90-7460-49f7-8e6d-d7eebe9ad4ec",
   "metadata": {},
   "outputs": [],
   "source": [
    "all_idx = np.arange(10000)\n",
    "np.random.shuffle(all_idx)\n",
    "train_idx = all_idx[:9000]\n",
    "val_idx = all_idx[9000:]"
   ]
  },
  {
   "cell_type": "code",
   "execution_count": 100,
   "id": "d647b5cf-e7c5-45c4-912a-f23ef273d679",
   "metadata": {},
   "outputs": [],
   "source": [
    "def readout_nw(H, output_dim):\n",
    "    # _X : final node embeddings\n",
    "    output = tf.keras.layers.Dense(output_dim)(H)\n",
    "    output = tf.reduce_sum(output, axis=1)\n",
    "    output = tf.keras.activations.relu(output)   \n",
    "    return output\n",
    "\n",
    "def build_model_library(unit1,unit2,lr=1e-2,loss='mse'): #library version\n",
    "                \n",
    "    H_in = tf.keras.layers.Input(shape=(N,F,))\n",
    "    A_in = tf.keras.layers.Input(shape=(N,N,))\n",
    "\n",
    "    graph_conv_1 = spektral.layers.GCNConv(channels = 32,\n",
    "                                             activation = 'relu')([H_in, A_in])\n",
    "\n",
    "    graph_conv_2 = spektral.layers.GCNConv(channels = 32,\n",
    "                                             activation = 'relu')([graph_conv_1, A_in])\n",
    "    \n",
    "    graph_conv_3 = spektral.layers.GCNConv(channels = 32,\n",
    "                                             activation = 'relu')([graph_conv_2, A_in])\n",
    "    \n",
    "    graph_feature = readout_nw(graph_conv_3, 128)\n",
    "    \n",
    "    out = tf.keras.layers.Flatten()(graph_feature)\n",
    "    out = tf.keras.layers.Dense(unit1,'relu')(out)\n",
    "    out = tf.keras.layers.Dense(unit2,'relu')(out)\n",
    "    out = tf.keras.layers.Dense(1,'linear')(out)\n",
    "    model = tf.keras.models.Model(inputs = [H_in, A_in], outputs = out)\n",
    "\n",
    "    model.compile(optimizer = tf.keras.optimizers.Adam(learning_rate = lr),\n",
    "                  loss = loss)\n",
    "\n",
    "    return model\n",
    "\n",
    "# \"Deeply learning molecular structure-property relationships using attention- and gate-augmented graph convolutional network\"\n",
    "# source_code --> https://github.com/SeongokRyu/Graph-neural-networks/blob/master/tutorials/gcn_prediction.ipynb\n",
    "# paper --> https://arxiv.org/abs/1805.10988 \n",
    "\n",
    "def graph_conv(H, A, ch):\n",
    "    output = tf.keras.layers.Dense(ch)(H)\n",
    "    output = tf.matmul(A, output)\n",
    "    output = tf.keras.activations.relu(output)\n",
    "    return output\n",
    "\n",
    "def build_model_custom(unit1,unit2,lr=1e-2,loss='mse'): #custom version\n",
    "                \n",
    "    H_in = tf.keras.layers.Input(shape=(N,F,))\n",
    "    A_in = tf.keras.layers.Input(shape=(N,N,))\n",
    "\n",
    "    gconv1 = graph_conv(H_in, A_in, 32)\n",
    "    gconv2 = graph_conv(gconv1, A_in, 32)\n",
    "    gconv3 = graph_conv(gconv2, A_in, 32)\n",
    "    graph_feature = readout_nw(gconv3, 128)\n",
    "\n",
    "    out = tf.keras.layers.Dense(unit1,'relu')(graph_feature)\n",
    "    out = tf.keras.layers.Dense(unit2,'relu')(out)\n",
    "    out = tf.keras.layers.Dense(1,'linear')(out)\n",
    "    model = tf.keras.models.Model(inputs = [H_in, A_in], outputs = out)\n",
    "\n",
    "    model.compile(optimizer = tf.keras.optimizers.Adam(learning_rate = lr),\n",
    "                  loss = loss)\n",
    "\n",
    "    return model"
   ]
  },
  {
   "cell_type": "code",
   "execution_count": 86,
   "id": "6008b56f-364a-49b7-8d78-9b718b4c5a17",
   "metadata": {},
   "outputs": [],
   "source": []
  },
  {
   "cell_type": "code",
   "execution_count": 135,
   "id": "2afa039b-c9dd-46ea-8933-66dfe3549f5a",
   "metadata": {
    "tags": []
   },
   "outputs": [
    {
     "name": "stdout",
     "output_type": "stream",
     "text": [
      "INFO:tensorflow:Assets written to: ./models/molecular.tf/assets\n",
      "INFO:tensorflow:Assets written to: ./models/molecular.tf/assets\n",
      "INFO:tensorflow:Assets written to: ./models/molecular.tf/assets\n",
      "INFO:tensorflow:Assets written to: ./models/molecular.tf/assets\n",
      "INFO:tensorflow:Assets written to: ./models/molecular.tf/assets\n",
      "INFO:tensorflow:Assets written to: ./models/molecular.tf/assets\n",
      "INFO:tensorflow:Assets written to: ./models/molecular.tf/assets\n",
      "INFO:tensorflow:Assets written to: ./models/molecular.tf/assets\n",
      "INFO:tensorflow:Assets written to: ./models/molecular.tf/assets\n",
      "INFO:tensorflow:Assets written to: ./models/molecular.tf/assets\n",
      "INFO:tensorflow:Assets written to: ./models/molecular.tf/assets\n",
      "INFO:tensorflow:Assets written to: ./models/molecular.tf/assets\n",
      "INFO:tensorflow:Assets written to: ./models/molecular.tf/assets\n",
      "INFO:tensorflow:Assets written to: ./models/molecular.tf/assets\n",
      "INFO:tensorflow:Assets written to: ./models/molecular.tf/assets\n",
      "INFO:tensorflow:Assets written to: ./models/molecular.tf/assets\n",
      "INFO:tensorflow:Assets written to: ./models/molecular.tf/assets\n",
      "INFO:tensorflow:Assets written to: ./models/molecular.tf/assets\n",
      "INFO:tensorflow:Assets written to: ./models/molecular.tf/assets\n",
      "INFO:tensorflow:Assets written to: ./models/molecular.tf/assets\n",
      "INFO:tensorflow:Assets written to: ./models/molecular.tf/assets\n",
      "INFO:tensorflow:Assets written to: ./models/molecular.tf/assets\n",
      "INFO:tensorflow:Assets written to: ./models/molecular.tf/assets\n",
      "INFO:tensorflow:Assets written to: ./models/molecular.tf/assets\n",
      "INFO:tensorflow:Assets written to: ./models/molecular.tf/assets\n",
      "INFO:tensorflow:Assets written to: ./models/molecular.tf/assets\n",
      "INFO:tensorflow:Assets written to: ./models/molecular.tf/assets\n",
      "INFO:tensorflow:Assets written to: ./models/molecular.tf/assets\n",
      "INFO:tensorflow:Assets written to: ./models/molecular.tf/assets\n",
      "INFO:tensorflow:Assets written to: ./models/molecular.tf/assets\n",
      "INFO:tensorflow:Assets written to: ./models/molecular.tf/assets\n",
      "INFO:tensorflow:Assets written to: ./models/molecular.tf/assets\n",
      "INFO:tensorflow:Assets written to: ./models/molecular.tf/assets\n",
      "INFO:tensorflow:Assets written to: ./models/molecular.tf/assets\n",
      "INFO:tensorflow:Assets written to: ./models/molecular.tf/assets\n",
      "INFO:tensorflow:Assets written to: ./models/molecular.tf/assets\n",
      "INFO:tensorflow:Assets written to: ./models/molecular.tf/assets\n",
      "INFO:tensorflow:Assets written to: ./models/molecular.tf/assets\n",
      "INFO:tensorflow:Assets written to: ./models/molecular.tf/assets\n",
      "INFO:tensorflow:Assets written to: ./models/molecular.tf/assets\n",
      "INFO:tensorflow:Assets written to: ./models/molecular.tf/assets\n",
      "INFO:tensorflow:Assets written to: ./models/molecular.tf/assets\n",
      "INFO:tensorflow:Assets written to: ./models/molecular.tf/assets\n",
      "INFO:tensorflow:Assets written to: ./models/molecular.tf/assets\n",
      "INFO:tensorflow:Assets written to: ./models/molecular.tf/assets\n",
      "INFO:tensorflow:Assets written to: ./models/molecular.tf/assets\n",
      "INFO:tensorflow:Assets written to: ./models/molecular.tf/assets\n"
     ]
    }
   ],
   "source": [
    "SaveName = 'molecular'\n",
    "model = build_model_library(100,50,lr=1e-3,loss='mse')\n",
    "\n",
    "my_callbacks = [tf.keras.callbacks.EarlyStopping(patience=50,monitor='val_loss'),\n",
    "                tf.keras.callbacks.ModelCheckpoint(filepath='./models/{}.tf'.format(SaveName)\n",
    "                                                   ,save_best_only=True)]\n",
    "\n",
    "hist = model.fit([list_feature[train_idx], list_adj[train_idx]], list_logP[train_idx],\n",
    "                 validation_data=([list_feature[val_idx], list_adj[val_idx]], list_logP[val_idx]),\n",
    "                 epochs = 500,\n",
    "                 batch_size = 16,verbose=0,callbacks=[my_callbacks])\n",
    "\n",
    "df = pd.DataFrame(hist.history)\n",
    "df.to_csv('{}.csv'.format(SaveName),index=False)"
   ]
  },
  {
   "cell_type": "code",
   "execution_count": 136,
   "id": "147e80aa-e354-465c-b975-c350a2299e69",
   "metadata": {
    "collapsed": true,
    "jupyter": {
     "outputs_hidden": true
    },
    "tags": []
   },
   "outputs": [
    {
     "name": "stdout",
     "output_type": "stream",
     "text": [
      "INFO:tensorflow:Assets written to: ./models/molecular_custom.tf/assets\n",
      "INFO:tensorflow:Assets written to: ./models/molecular_custom.tf/assets\n",
      "INFO:tensorflow:Assets written to: ./models/molecular_custom.tf/assets\n",
      "INFO:tensorflow:Assets written to: ./models/molecular_custom.tf/assets\n",
      "INFO:tensorflow:Assets written to: ./models/molecular_custom.tf/assets\n",
      "INFO:tensorflow:Assets written to: ./models/molecular_custom.tf/assets\n",
      "INFO:tensorflow:Assets written to: ./models/molecular_custom.tf/assets\n",
      "INFO:tensorflow:Assets written to: ./models/molecular_custom.tf/assets\n",
      "INFO:tensorflow:Assets written to: ./models/molecular_custom.tf/assets\n",
      "INFO:tensorflow:Assets written to: ./models/molecular_custom.tf/assets\n",
      "INFO:tensorflow:Assets written to: ./models/molecular_custom.tf/assets\n",
      "INFO:tensorflow:Assets written to: ./models/molecular_custom.tf/assets\n",
      "INFO:tensorflow:Assets written to: ./models/molecular_custom.tf/assets\n",
      "INFO:tensorflow:Assets written to: ./models/molecular_custom.tf/assets\n",
      "INFO:tensorflow:Assets written to: ./models/molecular_custom.tf/assets\n",
      "INFO:tensorflow:Assets written to: ./models/molecular_custom.tf/assets\n",
      "INFO:tensorflow:Assets written to: ./models/molecular_custom.tf/assets\n",
      "INFO:tensorflow:Assets written to: ./models/molecular_custom.tf/assets\n",
      "INFO:tensorflow:Assets written to: ./models/molecular_custom.tf/assets\n",
      "INFO:tensorflow:Assets written to: ./models/molecular_custom.tf/assets\n",
      "INFO:tensorflow:Assets written to: ./models/molecular_custom.tf/assets\n",
      "INFO:tensorflow:Assets written to: ./models/molecular_custom.tf/assets\n",
      "INFO:tensorflow:Assets written to: ./models/molecular_custom.tf/assets\n",
      "INFO:tensorflow:Assets written to: ./models/molecular_custom.tf/assets\n",
      "INFO:tensorflow:Assets written to: ./models/molecular_custom.tf/assets\n",
      "INFO:tensorflow:Assets written to: ./models/molecular_custom.tf/assets\n",
      "INFO:tensorflow:Assets written to: ./models/molecular_custom.tf/assets\n",
      "INFO:tensorflow:Assets written to: ./models/molecular_custom.tf/assets\n",
      "INFO:tensorflow:Assets written to: ./models/molecular_custom.tf/assets\n",
      "INFO:tensorflow:Assets written to: ./models/molecular_custom.tf/assets\n",
      "INFO:tensorflow:Assets written to: ./models/molecular_custom.tf/assets\n",
      "INFO:tensorflow:Assets written to: ./models/molecular_custom.tf/assets\n",
      "INFO:tensorflow:Assets written to: ./models/molecular_custom.tf/assets\n",
      "INFO:tensorflow:Assets written to: ./models/molecular_custom.tf/assets\n",
      "INFO:tensorflow:Assets written to: ./models/molecular_custom.tf/assets\n",
      "INFO:tensorflow:Assets written to: ./models/molecular_custom.tf/assets\n",
      "INFO:tensorflow:Assets written to: ./models/molecular_custom.tf/assets\n",
      "INFO:tensorflow:Assets written to: ./models/molecular_custom.tf/assets\n"
     ]
    }
   ],
   "source": [
    "SaveName = 'molecular_custom'\n",
    "model =  build_model_custom(100,50,lr=1e-3,loss='mse')\n",
    "\n",
    "my_callbacks = [tf.keras.callbacks.EarlyStopping(patience=50,monitor='val_loss'),\n",
    "                tf.keras.callbacks.ModelCheckpoint(filepath='./models/{}.tf'.format(SaveName)\n",
    "                                                   ,save_best_only=True)]\n",
    "\n",
    "hist = model.fit([list_feature[train_idx], list_adj[train_idx]], list_logP[train_idx],\n",
    "                 validation_data=([list_feature[val_idx], list_adj[val_idx]], list_logP[val_idx]),\n",
    "                 epochs = 500,\n",
    "                 batch_size = 16,verbose=0,callbacks=[my_callbacks])\n",
    "\n",
    "df = pd.DataFrame(hist.history)\n",
    "df.to_csv('{}.csv'.format(SaveName),index=False)"
   ]
  },
  {
   "cell_type": "code",
   "execution_count": 137,
   "id": "a12f607c-6f38-42ce-bc8c-31bb34e31341",
   "metadata": {},
   "outputs": [],
   "source": [
    "def result_show(SaveName):\n",
    "    history = pd.read_csv('{}.csv'.format(SaveName))\n",
    "    model = tf.keras.models.load_model('./models/{}.tf'.format(SaveName))\n",
    "    val_inp, val_true = [list_feature[val_idx], list_adj[val_idx]], list_logP[val_idx]\n",
    "    val_pred = model(val_inp).numpy().flatten()\n",
    "\n",
    "    plt.figure(figsize=(10,3))\n",
    "    plt.suptitle(SaveName)\n",
    "    plt.subplot(1,3,1)\n",
    "    plt.title('train_curve')\n",
    "    plt.plot(hist.history['loss'],label='train')\n",
    "    plt.plot(hist.history['val_loss'],label='val')\n",
    "\n",
    "    plt.subplot(1,3,2)\n",
    "    plt.title('logP prediction')\n",
    "    plt.plot(val_true,val_true)\n",
    "    plt.scatter(val_true,val_pred,color='green',marker='.',label='R score:{}'.format(r2_score(val_true, val_pred).round(3)))\n",
    "    plt.legend()\n",
    "    plt.tight_layout()\n",
    "\n",
    "    plt.subplot(1,3,3)\n",
    "    plt.title('error distribution(mape)')\n",
    "    mape_arr = [tf.keras.losses.mape(true.reshape(-1,1), pred.reshape(-1,1)).numpy()[0] for true, pred in zip(val_true, val_pred)]\n",
    "    plt.hist(mape_arr,bins=100,label = \"mean error: %.2f\" %np.median(mape_arr)+'%')\n",
    "    plt.legend()\n",
    "    plt.tight_layout()\n",
    "    plt.show()"
   ]
  },
  {
   "cell_type": "code",
   "execution_count": 138,
   "id": "e9e45578-324c-4139-8661-04e1209a778d",
   "metadata": {},
   "outputs": [
    {
     "data": {
      "image/png": "[encoded data removed]",
      "text/plain": [
       "<Figure size 720x216 with 3 Axes>"
      ]
     },
     "metadata": {
      "needs_background": "light"
     },
     "output_type": "display_data"
    }
   ],
   "source": [
    "result_show(SaveName='molecular')"
   ]
  },
  {
   "cell_type": "code",
   "execution_count": 139,
   "id": "e82a7d40-3499-4ef6-847b-e3484fd8b360",
   "metadata": {},
   "outputs": [
    {
     "data": {
      "image/png": "[encoded data removed]",
      "text/plain": [
       "<Figure size 720x216 with 3 Axes>"
      ]
     },
     "metadata": {
      "needs_background": "light"
     },
     "output_type": "display_data"
    }
   ],
   "source": [
    "result_show(SaveName='molecular_custom')"
   ]
  }
 ],
 "metadata": {
  "kernelspec": {
   "display_name": "Python 3 (ipykernel)",
   "language": "python",
   "name": "python3"
  },
  "language_info": {
   "codemirror_mode": {
    "name": "ipython",
    "version": 3
   },
   "file_extension": ".py",
   "mimetype": "text/x-python",
   "name": "python",
   "nbconvert_exporter": "python",
   "pygments_lexer": "ipython3",
   "version": "3.7.11"
  }
 },
 "nbformat": 4,
 "nbformat_minor": 5
}
